{
 "cells": [
  {
   "cell_type": "code",
   "execution_count": 1,
   "metadata": {},
   "outputs": [
    {
     "name": "stdout",
     "output_type": "stream",
     "text": [
      "회사명: Tesla, Inc.\n",
      "업종: Auto Manufacturers\n",
      "사업 설명: Tesla, Inc. designs, develops, manufactures, leases, and sells electric vehicles, and energy generation and storage systems in the United States, China, and internationally. The company operates in two segments, Automotive, and Energy Generation and Storage. The Automotive segment offers electric vehicles, as well as sells automotive regulatory credits; and non-warranty after-sales vehicle, used vehicles, body shop and parts, supercharging, retail merchandise, and vehicle insurance services. This segment also provides sedans and sport utility vehicles through direct and used vehicle sales, a network of Tesla Superchargers, and in-app upgrades; purchase financing and leasing services; services for electric vehicles through its company-owned service locations and Tesla mobile service technicians; and vehicle limited warranties and extended service plans. The Energy Generation and Storage segment engages in the design, manufacture, installation, sale, and leasing of solar energy generation and energy storage products, and related services to residential, commercial, and industrial customers and utilities through its website, stores, and galleries, as well as through a network of channel partners; and provision of service and repairs to its energy product customers, including under warranty, as well as various financing options to its solar customers. The company was formerly known as Tesla Motors, Inc. and changed its name to Tesla, Inc. in February 2017. Tesla, Inc. was incorporated in 2003 and is headquartered in Austin, Texas.\n",
      "현재 가격: 338.23\n"
     ]
    }
   ],
   "source": [
    "import yfinance as yf\n",
    "\n",
    "tsla = yf.Ticker(\"TSLA\")\n",
    "\n",
    "info = tsla.info\n",
    "\n",
    "print('회사명:', info['longName'])\n",
    "print('업종:', info['industry'])\n",
    "print('사업 설명:', info['longBusinessSummary'])\n",
    "print('현재 가격:', info['currentPrice'])"
   ]
  },
  {
   "cell_type": "code",
   "execution_count": 2,
   "metadata": {},
   "outputs": [
    {
     "data": {
      "text/html": [
       "<div>\n",
       "<style scoped>\n",
       "    .dataframe tbody tr th:only-of-type {\n",
       "        vertical-align: middle;\n",
       "    }\n",
       "\n",
       "    .dataframe tbody tr th {\n",
       "        vertical-align: top;\n",
       "    }\n",
       "\n",
       "    .dataframe thead th {\n",
       "        text-align: right;\n",
       "    }\n",
       "</style>\n",
       "<table border=\"1\" class=\"dataframe\">\n",
       "  <thead>\n",
       "    <tr style=\"text-align: right;\">\n",
       "      <th></th>\n",
       "      <th>Open</th>\n",
       "      <th>High</th>\n",
       "      <th>Low</th>\n",
       "      <th>Close</th>\n",
       "      <th>Adj Close</th>\n",
       "      <th>Volume</th>\n",
       "      <th>Dividends</th>\n",
       "      <th>Stock Splits</th>\n",
       "    </tr>\n",
       "    <tr>\n",
       "      <th>Date</th>\n",
       "      <th></th>\n",
       "      <th></th>\n",
       "      <th></th>\n",
       "      <th></th>\n",
       "      <th></th>\n",
       "      <th></th>\n",
       "      <th></th>\n",
       "      <th></th>\n",
       "    </tr>\n",
       "  </thead>\n",
       "  <tbody>\n",
       "    <tr>\n",
       "      <th>2024-11-20 00:00:00-05:00</th>\n",
       "      <td>345.000000</td>\n",
       "      <td>346.600006</td>\n",
       "      <td>334.299988</td>\n",
       "      <td>342.029999</td>\n",
       "      <td>342.029999</td>\n",
       "      <td>66340700</td>\n",
       "      <td>0.0</td>\n",
       "      <td>0.0</td>\n",
       "    </tr>\n",
       "    <tr>\n",
       "      <th>2024-11-21 00:00:00-05:00</th>\n",
       "      <td>343.809998</td>\n",
       "      <td>347.989990</td>\n",
       "      <td>335.279999</td>\n",
       "      <td>339.640015</td>\n",
       "      <td>339.640015</td>\n",
       "      <td>58011700</td>\n",
       "      <td>0.0</td>\n",
       "      <td>0.0</td>\n",
       "    </tr>\n",
       "    <tr>\n",
       "      <th>2024-11-22 00:00:00-05:00</th>\n",
       "      <td>341.089996</td>\n",
       "      <td>361.529999</td>\n",
       "      <td>337.700012</td>\n",
       "      <td>352.559998</td>\n",
       "      <td>352.559998</td>\n",
       "      <td>89140700</td>\n",
       "      <td>0.0</td>\n",
       "      <td>0.0</td>\n",
       "    </tr>\n",
       "    <tr>\n",
       "      <th>2024-11-25 00:00:00-05:00</th>\n",
       "      <td>360.140015</td>\n",
       "      <td>361.929993</td>\n",
       "      <td>338.200012</td>\n",
       "      <td>338.589996</td>\n",
       "      <td>338.589996</td>\n",
       "      <td>95890900</td>\n",
       "      <td>0.0</td>\n",
       "      <td>0.0</td>\n",
       "    </tr>\n",
       "    <tr>\n",
       "      <th>2024-11-26 00:00:00-05:00</th>\n",
       "      <td>341.000000</td>\n",
       "      <td>346.959991</td>\n",
       "      <td>335.660004</td>\n",
       "      <td>338.230011</td>\n",
       "      <td>338.230011</td>\n",
       "      <td>62089200</td>\n",
       "      <td>0.0</td>\n",
       "      <td>0.0</td>\n",
       "    </tr>\n",
       "  </tbody>\n",
       "</table>\n",
       "</div>"
      ],
      "text/plain": [
       "                                 Open        High         Low       Close  \\\n",
       "Date                                                                        \n",
       "2024-11-20 00:00:00-05:00  345.000000  346.600006  334.299988  342.029999   \n",
       "2024-11-21 00:00:00-05:00  343.809998  347.989990  335.279999  339.640015   \n",
       "2024-11-22 00:00:00-05:00  341.089996  361.529999  337.700012  352.559998   \n",
       "2024-11-25 00:00:00-05:00  360.140015  361.929993  338.200012  338.589996   \n",
       "2024-11-26 00:00:00-05:00  341.000000  346.959991  335.660004  338.230011   \n",
       "\n",
       "                            Adj Close    Volume  Dividends  Stock Splits  \n",
       "Date                                                                      \n",
       "2024-11-20 00:00:00-05:00  342.029999  66340700        0.0           0.0  \n",
       "2024-11-21 00:00:00-05:00  339.640015  58011700        0.0           0.0  \n",
       "2024-11-22 00:00:00-05:00  352.559998  89140700        0.0           0.0  \n",
       "2024-11-25 00:00:00-05:00  338.589996  95890900        0.0           0.0  \n",
       "2024-11-26 00:00:00-05:00  338.230011  62089200        0.0           0.0  "
      ]
     },
     "execution_count": 2,
     "metadata": {},
     "output_type": "execute_result"
    }
   ],
   "source": [
    "tsla_df = tsla.history(interval='1d', period='5d', auto_adjust=False)\n",
    "tsla_df"
   ]
  },
  {
   "cell_type": "code",
   "execution_count": 3,
   "metadata": {},
   "outputs": [
    {
     "name": "stdout",
     "output_type": "stream",
     "text": [
      "Trump is set to end the EV tax credit. Here are 7 electric cars to buy before it goes away - Quartz - https://finance.yahoo.com/m/be8c2e45-2b0f-3f5d-986d-0385fdc1fb42/trump-is-set-to-end-the-ev.html\n",
      "Lidar maker Hesai sees device becoming as common as airbags - Bloomberg - https://finance.yahoo.com/news/lidar-maker-hesai-sees-technology-023504385.html\n",
      "After fast start, electric cars need a recharge as range limits, cost leave some drivers skeptical - Associated Press Finance - https://finance.yahoo.com/news/fast-start-electric-cars-recharge-065307222.html\n",
      "Zacks Investment Ideas feature highlights: Nvidia's, Coinbase, Tesla and Astera Labs - Zacks - https://finance.yahoo.com/news/zacks-investment-ideas-feature-highlights-062200807.html\n",
      "Rivian Catalysts Fluctuate the Stock Price Amid Expansion and Strategic Moves - GuruFocus.com - https://finance.yahoo.com/news/rivian-catalysts-fluctuate-stock-price-040918501.html\n",
      "Political fever over EVs has Tesla expert buzzing with confidence - TheStreet - https://finance.yahoo.com/m/8f0f51e7-67c0-34d0-ab8c-b299ba931c8b/political-fever-over-evs-has.html\n",
      "How California Could Exclude Tesla From EV Credits—and Why It Won’t Work - Barrons.com - https://finance.yahoo.com/m/60ccbcc6-79cd-348a-b3e0-0b4a321e9645/how-california-could-exclude.html\n",
      "2025 Could Be Horrendous for Car Sales. It’s a Huge Test for EVs. - Barrons.com - https://finance.yahoo.com/m/a5404248-dad7-3f77-8206-6ec483f49011/2025-could-be-horrendous-for.html\n"
     ]
    }
   ],
   "source": [
    "news = tsla.news\n",
    "\n",
    "for item in news:\n",
    "    print(item['title'], \"-\", item['publisher'], \"-\", item['link'])"
   ]
  },
  {
   "cell_type": "code",
   "execution_count": null,
   "metadata": {},
   "outputs": [],
   "source": []
  }
 ],
 "metadata": {
  "kernelspec": {
   "display_name": ".venv",
   "language": "python",
   "name": "python3"
  },
  "language_info": {
   "codemirror_mode": {
    "name": "ipython",
    "version": 3
   },
   "file_extension": ".py",
   "mimetype": "text/x-python",
   "name": "python",
   "nbconvert_exporter": "python",
   "pygments_lexer": "ipython3",
   "version": "3.12.0"
  }
 },
 "nbformat": 4,
 "nbformat_minor": 2
}
