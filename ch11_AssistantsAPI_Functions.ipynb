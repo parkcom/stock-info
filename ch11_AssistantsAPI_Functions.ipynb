{
 "cells": [
  {
   "cell_type": "code",
   "execution_count": 18,
   "metadata": {},
   "outputs": [],
   "source": [
    "import openai\n",
    "import yfinance as yf\n",
    "import json\n",
    "\n",
    "\n",
    "def get_stock_price(symbol):\n",
    "    stock = yf.Ticker(symbol)\n",
    "    price = stock.info[\"currentPrice\"]\n",
    "    return price\n",
    "\n",
    "\n",
    "def get_latest_company_news(symbol):\n",
    "    stock = yf.Ticker(symbol)\n",
    "    news = stock.news\n",
    "\n",
    "    news_list = []\n",
    "    num = 1\n",
    "    for item in news[:3]:\n",
    "        news_list.append(\n",
    "            f\"{num}: title : {item['title']}, publisher: {item['publisher']}, link : {item['link']}\"\n",
    "        )\n",
    "        num += 1\n",
    "    return news_list\n",
    "\n",
    "\n",
    "tools_list = [\n",
    "    {\n",
    "        \"type\": \"function\",\n",
    "        \"function\": {\n",
    "            \"name\": \"get_stock_price\",\n",
    "            \"description\": \"Get the current stock price for a given symbol\",\n",
    "            \"parameters\": {\n",
    "                \"type\": \"object\",\n",
    "                \"properties\": {\n",
    "                    \"symbol\": {\n",
    "                        \"type\": \"string\",\n",
    "                        \"description\": \"The stock symbol to get the price for\",\n",
    "                    }\n",
    "                },\n",
    "                \"required\": [\"symbol\"],\n",
    "            },\n",
    "        },\n",
    "    },\n",
    "    {\n",
    "        \"type\": \"function\",\n",
    "        \"function\": {\n",
    "            \"name\": \"get_latest_company_news\",\n",
    "            \"description\": \"Get the latest news for a given company symbol\",\n",
    "            \"parameters\": {\n",
    "                \"type\": \"object\",\n",
    "                \"properties\": {\n",
    "                    \"symbol\": {\n",
    "                        \"type\": \"string\",\n",
    "                        \"description\": \"The stock symbol to get the latest news for\",\n",
    "                    }\n",
    "                },\n",
    "                \"required\": [\"symbol\"],\n",
    "            },\n",
    "        },\n",
    "    },\n",
    "]"
   ]
  },
  {
   "cell_type": "code",
   "execution_count": 19,
   "metadata": {},
   "outputs": [],
   "source": [
    "import os\n",
    "\n",
    "\n",
    "client = openai.OpenAI(api_key=os.getenv(\"OPENAI_API_KEY\"))"
   ]
  },
  {
   "cell_type": "code",
   "execution_count": 20,
   "metadata": {},
   "outputs": [],
   "source": [
    "instruction=\"\"\"\n",
    "너는 주식 분석 전문가야\n",
    "\n",
    "규칙:\n",
    "1. 사용자가 회사 또는 종목에 대해 물어보면, function을 활용해서 회사의 주식 가격과 최신 뉴스를 답해줘.\n",
    "2. 모든 답변은 한국어로 해줘.\n",
    "\"\"\"\n",
    "\n",
    "assistant = client.beta.assistants.create(\n",
    "    name=\"Company Stock Analyst\",\n",
    "    instructions=instruction,\n",
    "    model='gpt-4o-mini',\n",
    "    tools = tools_list,\n",
    ")"
   ]
  },
  {
   "cell_type": "code",
   "execution_count": 21,
   "metadata": {},
   "outputs": [],
   "source": [
    "thread = client.beta.threads.create()\n"
   ]
  },
  {
   "cell_type": "code",
   "execution_count": 22,
   "metadata": {},
   "outputs": [],
   "source": [
    "message = client.beta.threads.messages.create(\n",
    "    thread_id=thread.id,\n",
    "    role=\"user\",\n",
    "    content=\"테슬라의 최근 주가와 최신 뉴스에 대해 알려줘\"\n",
    ")"
   ]
  },
  {
   "cell_type": "code",
   "execution_count": 23,
   "metadata": {},
   "outputs": [],
   "source": [
    "run = client.beta.threads.runs.create(thread_id=thread.id, assistant_id=assistant.id)"
   ]
  },
  {
   "cell_type": "code",
   "execution_count": 24,
   "metadata": {},
   "outputs": [
    {
     "name": "stdout",
     "output_type": "stream",
     "text": [
      "requires_action\n",
      "requires_action\n"
     ]
    }
   ],
   "source": [
    "import time\n",
    "\n",
    "\n",
    "while run.status not in ['completed', 'failed', \"requires_action\"]:\n",
    "    run = client.beta.threads.runs.retrieve(thread_id=thread.id, run_id=run.id)\n",
    "    print(run.status)\n",
    "    time.sleep(1)\n",
    "\n",
    "print(run.status)"
   ]
  },
  {
   "cell_type": "code",
   "execution_count": 25,
   "metadata": {},
   "outputs": [
    {
     "name": "stdout",
     "output_type": "stream",
     "text": [
      "필요 호출 개수:  2\n",
      "[RequiredActionFunctionToolCall(id='call_dMVCAvoEGsvALIEnqRMS7hiH', function=Function(arguments='{\"symbol\": \"TSLA\"}', name='get_stock_price'), type='function'), RequiredActionFunctionToolCall(id='call_edvegnwB8zuYpGp3b79ptwmy', function=Function(arguments='{\"symbol\": \"TSLA\"}', name='get_latest_company_news'), type='function')]\n"
     ]
    }
   ],
   "source": [
    "tools_to_call = run.required_action.submit_tool_outputs.tool_calls\n",
    "print('필요 호출 개수: ', len(tools_to_call))\n",
    "print(tools_to_call)"
   ]
  },
  {
   "cell_type": "code",
   "execution_count": 26,
   "metadata": {},
   "outputs": [
    {
     "name": "stdout",
     "output_type": "stream",
     "text": [
      "get_stock_price\n",
      "{\"symbol\": \"TSLA\"}\n",
      "get_latest_company_news\n",
      "{\"symbol\": \"TSLA\"}\n"
     ]
    }
   ],
   "source": [
    "print(tools_to_call[0].function.name)\n",
    "print(tools_to_call[0].function.arguments)\n",
    "print(tools_to_call[1].function.name)\n",
    "print(tools_to_call[1].function.arguments)"
   ]
  },
  {
   "cell_type": "code",
   "execution_count": 27,
   "metadata": {},
   "outputs": [
    {
     "name": "stdout",
     "output_type": "stream",
     "text": [
      "[{'tool_call_id': 'call_dMVCAvoEGsvALIEnqRMS7hiH', 'output': '338.23'}, {'tool_call_id': 'call_edvegnwB8zuYpGp3b79ptwmy', 'output': '[\"1: title : Inside Elon Musk\\\\u2019s Quest to Beat OpenAI at Its Own Game, publisher: The Wall Street Journal, link : https://finance.yahoo.com/m/1bff3d65-da6f-3891-a827-330619025891/inside-elon-musk%E2%80%99s-quest-to.html\", \"2: title : Trump is set to end the EV tax credit. Here are 7 electric cars to buy before it goes away, publisher: Quartz, link : https://finance.yahoo.com/m/be8c2e45-2b0f-3f5d-986d-0385fdc1fb42/trump-is-set-to-end-the-ev.html\", \"3: title : Lidar maker Hesai sees device becoming as common as airbags, publisher: Bloomberg, link : https://finance.yahoo.com/news/lidar-maker-hesai-sees-technology-023504385.html\"]'}]\n"
     ]
    }
   ],
   "source": [
    "tools_output_array = []\n",
    "for each_tool in tools_to_call:\n",
    "    tool_call_id = each_tool.id\n",
    "    function_name = each_tool.function.name\n",
    "    function_arg = each_tool.function.arguments\n",
    "    function_arg = json.loads(function_arg)\n",
    "\n",
    "    if function_name == \"get_stock_price\":\n",
    "        output = get_stock_price(function_arg[\"symbol\"])\n",
    "    if function_name == \"get_latest_company_news\":\n",
    "        output = get_latest_company_news(function_arg[\"symbol\"])\n",
    "\n",
    "    tools_output_array.append({\"tool_call_id\": tool_call_id, \"output\": json.dumps(output)})\n",
    "\n",
    "print(tools_output_array)"
   ]
  },
  {
   "cell_type": "code",
   "execution_count": 28,
   "metadata": {},
   "outputs": [],
   "source": [
    "run = client.beta.threads.runs.submit_tool_outputs(thread_id=thread.id, run_id=run.id, tool_outputs=tools_output_array)"
   ]
  },
  {
   "cell_type": "code",
   "execution_count": 29,
   "metadata": {},
   "outputs": [],
   "source": [
    "messages = client.beta.threads.messages.list(thread_id=thread.id)"
   ]
  },
  {
   "cell_type": "code",
   "execution_count": 33,
   "metadata": {},
   "outputs": [
    {
     "name": "stdout",
     "output_type": "stream",
     "text": [
      "assistant: 현재 테슬라(TSLA)의 주가는 **$338.23**입니다.\n",
      "\n",
      "최신 뉴스들은 다음과 같습니다:\n",
      "\n",
      "1. **[Inside Elon Musk’s Quest to Beat OpenAI at Its Own Game](https://finance.yahoo.com/m/1bff3d65-da6f-3891-a827-330619025891/inside-elon-musk%E2%80%99s-quest-to.html)** - 출처: The Wall Street Journal\n",
      "2. **[Trump is set to end the EV tax credit. Here are 7 electric cars to buy before it goes away](https://finance.yahoo.com/m/be8c2e45-2b0f-3f5d-986d-0385fdc1fb42/trump-is-set-to-end-the-ev.html)** - 출처: Quartz\n",
      "3. **[Lidar maker Hesai sees device becoming as common as airbags](https://finance.yahoo.com/news/lidar-maker-hesai-sees-technology-023504385.html)** - 출처: Bloomberg\n",
      "\n",
      "더 궁금한 점이 있으면 말씀해 주세요!\n",
      "================\n",
      "user: 테슬라의 최근 주가와 최신 뉴스에 대해 알려줘\n",
      "================\n"
     ]
    }
   ],
   "source": [
    "for each in messages:\n",
    "    print(each.role + \": \" + each.content[0].text.value)\n",
    "    print(\"================\")"
   ]
  },
  {
   "cell_type": "code",
   "execution_count": null,
   "metadata": {},
   "outputs": [],
   "source": []
  }
 ],
 "metadata": {
  "kernelspec": {
   "display_name": ".venv",
   "language": "python",
   "name": "python3"
  },
  "language_info": {
   "codemirror_mode": {
    "name": "ipython",
    "version": 3
   },
   "file_extension": ".py",
   "mimetype": "text/x-python",
   "name": "python",
   "nbconvert_exporter": "python",
   "pygments_lexer": "ipython3",
   "version": "3.12.0"
  }
 },
 "nbformat": 4,
 "nbformat_minor": 2
}
