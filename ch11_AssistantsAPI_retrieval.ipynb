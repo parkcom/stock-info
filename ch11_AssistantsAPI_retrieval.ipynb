{
 "cells": [
  {
   "cell_type": "code",
   "execution_count": 5,
   "metadata": {},
   "outputs": [
    {
     "name": "stdout",
     "output_type": "stream",
     "text": [
      "completed\n",
      "FileCounts(cancelled=0, completed=1, failed=0, in_progress=0, total=1)\n"
     ]
    }
   ],
   "source": [
    "import os\n",
    "import openai\n",
    "\n",
    "client = openai.Client(api_key=os.getenv(\"OPENAI_API_KEY\"))\n",
    "\n",
    "\n",
    "vector_store = client.beta.vector_stores.create(name=\"축구 규칙 파일\")\n",
    "\n",
    "file_streams = open(\"축구규칙정리.pdf\", \"rb\")\n",
    "\n",
    "file_batch = client.beta.vector_stores.file_batches.upload_and_poll(vector_store_id=vector_store.id, files=[file_streams])\n",
    "\n",
    "print(file_batch.status)\n",
    "print(file_batch.file_counts)"
   ]
  },
  {
   "cell_type": "code",
   "execution_count": 6,
   "metadata": {},
   "outputs": [
    {
     "name": "stdout",
     "output_type": "stream",
     "text": [
      "asst_AKaZLtBcSYHmUcCc9kMVo3Qw\n"
     ]
    }
   ],
   "source": [
    "\n",
    "\n",
    "instruction = '''\n",
    "[목적]\n",
    "이 GPT는 축구 규칙을 설명해주는 챗봇입니다.\n",
    "\n",
    "[규칙]\n",
    "1. 사용자가 축구 규칙에 대해 질문하면 업로드된 파일에서 해당 내용을 찾아 자세히 답변합니다.\n",
    "2. 파일안에서 마땅한 답을 찾을 수 없거나 축구 규칙에 관한 질문이 아니면 \"축구 규칙에 관한\n",
    "질문만 부탁해요^^\"라고 답해주세요.\n",
    "3. 답변의 형태는 아래 예시와 같이 해주세요\n",
    "예시)\n",
    "- 질문: 질문 내용\n",
    "- 답변: 답변 내용\n",
    "4. 모든 질문에 한국어로 답변해주세요.\n",
    "'''\n",
    "\n",
    "assistant = client.beta.assistants.create(\n",
    "    name='축구 규칙 설명 챗봇',\n",
    "    instructions=instruction,\n",
    "    model=\"gpt-4o-mini\",\n",
    "    tools=[{\"type\": \"file_search\"}],\n",
    "    tool_resources={\"file_search\": {\"vector_store_ids\": [vector_store.id]}}\n",
    ")\n",
    "\n",
    "print(assistant.id)\n"
   ]
  },
  {
   "cell_type": "code",
   "execution_count": 7,
   "metadata": {},
   "outputs": [
    {
     "name": "stdout",
     "output_type": "stream",
     "text": [
      "[Assistant(id='asst_AKaZLtBcSYHmUcCc9kMVo3Qw', created_at=1732703858, description=None, instructions='\\n[목적]\\n이 GPT는 축구 규칙을 설명해주는 챗봇입니다.\\n\\n[규칙]\\n1. 사용자가 축구 규칙에 대해 질문하면 업로드된 파일에서 해당 내용을 찾아 자세히 답변합니다.\\n2. 파일안에서 마땅한 답을 찾을 수 없거나 축구 규칙에 관한 질문이 아니면 \"축구 규칙에 관한\\n질문만 부탁해요^^\"라고 답해주세요.\\n3. 답변의 형태는 아래 예시와 같이 해주세요\\n예시)\\n- 질문: 질문 내용\\n- 답변: 답변 내용\\n4. 모든 질문에 한국어로 답변해주세요.\\n', metadata={}, model='gpt-4o-mini', name='축구 규칙 설명 챗봇', object='assistant', tools=[FileSearchTool(type='file_search', file_search=FileSearch(max_num_results=None, ranking_options=FileSearchRankingOptions(score_threshold=0.0, ranker='default_2024_08_21')))], response_format='auto', temperature=1.0, tool_resources=ToolResources(code_interpreter=None, file_search=ToolResourcesFileSearch(vector_store_ids=['vs_xFjafyj8uBGiV2wRvWMnoPAH'])), top_p=1.0), Assistant(id='asst_XXpfV4Mm7f8cZvyeBlT23PVH', created_at=1703051728, description=None, instructions='유저가 주는 단어나 문구가 영어가 아닌 경우 영어로 번역하고, 그 단어나 문구가 포함되는 영어 문장 10개와 각각의 문장에 대한 한국어 번역을 작성해줘.', metadata={}, model='gpt-4o-2024-08-06', name='Super Translator', object='assistant', tools=[], response_format='auto', temperature=1.0, tool_resources=ToolResources(code_interpreter=None, file_search=None), top_p=1.0)]\n"
     ]
    }
   ],
   "source": [
    "my_assistants = client.beta.assistants.list(order=\"desc\", limit=20)\n",
    "print(my_assistants.data)"
   ]
  },
  {
   "cell_type": "code",
   "execution_count": 17,
   "metadata": {},
   "outputs": [
    {
     "name": "stdout",
     "output_type": "stream",
     "text": [
      "Thread(id='thread_EpXC3rNmGKDCbFZI0FUNclPs', created_at=1732704844, metadata={}, object='thread', tool_resources=ToolResources(code_interpreter=None, file_search=None))\n"
     ]
    }
   ],
   "source": [
    "thread = client.beta.threads.create()\n",
    "print(thread)"
   ]
  },
  {
   "cell_type": "code",
   "execution_count": 18,
   "metadata": {},
   "outputs": [],
   "source": [
    "message = client.beta.threads.messages.create(thread_id=thread.id, role=\"user\", content=\"축구장의 크기는?\")"
   ]
  },
  {
   "cell_type": "code",
   "execution_count": 19,
   "metadata": {},
   "outputs": [],
   "source": [
    "run = client.beta.threads.runs.create(thread_id=thread.id, assistant_id=assistant.id)"
   ]
  },
  {
   "cell_type": "code",
   "execution_count": 20,
   "metadata": {},
   "outputs": [
    {
     "name": "stdout",
     "output_type": "stream",
     "text": [
      "in_progress\n",
      "in_progress\n",
      "completed\n"
     ]
    }
   ],
   "source": [
    "import time\n",
    "\n",
    "while run.status not in [\"completed\", \"failed\"]:\n",
    "    run = client.beta.threads.runs.retrieve(thread_id=thread.id, run_id=run.id)\n",
    "    print(run.status)\n",
    "    time.sleep(5)\n"
   ]
  },
  {
   "cell_type": "code",
   "execution_count": 21,
   "metadata": {},
   "outputs": [],
   "source": [
    "messages = client.beta.threads.messages.list(thread_id=thread.id)"
   ]
  },
  {
   "cell_type": "code",
   "execution_count": 22,
   "metadata": {},
   "outputs": [
    {
     "name": "stdout",
     "output_type": "stream",
     "text": [
      "assistant: - 질문: 축구장의 크기는?\n",
      "- 답변: 축구장의 크기는 다음과 같습니다:\n",
      "  - 터치라인 길이:\n",
      "    - 최소 90m (100 야드)\n",
      "    - 최대 120m (130 야드)\n",
      "  - 골라인 길이:\n",
      "    - 최소 45m (50 야드)\n",
      "    - 최대 90m (100 야드)\n",
      "  - 국제경기를 위한 크기:\n",
      "    - 터치라인: 최소 100m (110 야드), 최대 110m (120 야드)\n",
      "    - 골라인: 최소 64m (70 야드), 최대 75m (80 야드)【4:0†source】.\n",
      "============\n",
      "user: 축구장의 크기는?\n",
      "============\n"
     ]
    }
   ],
   "source": [
    "for each in messages:\n",
    "    print(each.role + \": \" + each.content[0].text.value)\n",
    "    print(\"============\")"
   ]
  },
  {
   "cell_type": "code",
   "execution_count": 3,
   "metadata": {},
   "outputs": [
    {
     "ename": "NameError",
     "evalue": "name 'openai' is not defined",
     "output_type": "error",
     "traceback": [
      "\u001b[0;31m---------------------------------------------------------------------------\u001b[0m",
      "\u001b[0;31mNameError\u001b[0m                                 Traceback (most recent call last)",
      "Cell \u001b[0;32mIn[3], line 1\u001b[0m\n\u001b[0;32m----> 1\u001b[0m client \u001b[38;5;241m=\u001b[39m \u001b[43mopenai\u001b[49m\u001b[38;5;241m.\u001b[39mClient(api_key\u001b[38;5;241m=\u001b[39mos\u001b[38;5;241m.\u001b[39mgetenv(\u001b[38;5;124m\"\u001b[39m\u001b[38;5;124mOPENAI_API_KEY\u001b[39m\u001b[38;5;124m\"\u001b[39m))\n\u001b[1;32m      2\u001b[0m thread \u001b[38;5;241m=\u001b[39m client\u001b[38;5;241m.\u001b[39mbeta\u001b[38;5;241m.\u001b[39mthreads\u001b[38;5;241m.\u001b[39mcreate()\n\u001b[1;32m      3\u001b[0m message \u001b[38;5;241m=\u001b[39m client\u001b[38;5;241m.\u001b[39mbeta\u001b[38;5;241m.\u001b[39mthreads\u001b[38;5;241m.\u001b[39mmessages\u001b[38;5;241m.\u001b[39mcreate(thread_id\u001b[38;5;241m=\u001b[39mthread\u001b[38;5;241m.\u001b[39mid, role\u001b[38;5;241m=\u001b[39m\u001b[38;5;124m\"\u001b[39m\u001b[38;5;124muser\u001b[39m\u001b[38;5;124m\"\u001b[39m, content\u001b[38;5;241m=\u001b[39m\u001b[38;5;124m\"\u001b[39m\u001b[38;5;124m오프사이드 룰에 대해 설명해줘\u001b[39m\u001b[38;5;124m\"\u001b[39m)\n",
      "\u001b[0;31mNameError\u001b[0m: name 'openai' is not defined"
     ]
    }
   ],
   "source": [
    "\n",
    "client = openai.Client(api_key=os.getenv(\"OPENAI_API_KEY\"))\n",
    "thread = client.beta.threads.create()\n",
    "message = client.beta.threads.messages.create(thread_id=thread.id, role=\"user\", content=\"오프사이드 룰에 대해 설명해줘\")\n",
    "\n",
    "messages = client.beta.threads.messages.list(thread_id=thread.id)"
   ]
  },
  {
   "cell_type": "code",
   "execution_count": 27,
   "metadata": {},
   "outputs": [
    {
     "name": "stdout",
     "output_type": "stream",
     "text": [
      "user: 오프사이드 룰에 대해 설명해줘\n",
      "============\n"
     ]
    }
   ],
   "source": [
    "for each in messages:\n",
    "    print(each.role + \": \" + each.content[0].text.value)\n",
    "    print(\"============\")"
   ]
  },
  {
   "cell_type": "code",
   "execution_count": 5,
   "metadata": {},
   "outputs": [],
   "source": [
    "import openai\n",
    "import os\n",
    "\n",
    "client = openai.Client(api_key=os.getenv(\"OPENAI_API_KEY\"))"
   ]
  },
  {
   "cell_type": "code",
   "execution_count": null,
   "metadata": {},
   "outputs": [],
   "source": []
  },
  {
   "cell_type": "code",
   "execution_count": 6,
   "metadata": {},
   "outputs": [],
   "source": [
    "response = client.beta.assistants.delete(\"asst_AKaZLtBcSYHmUcCc9kMVo3Qw\")"
   ]
  },
  {
   "cell_type": "code",
   "execution_count": 7,
   "metadata": {},
   "outputs": [
    {
     "name": "stdout",
     "output_type": "stream",
     "text": [
      "SyncCursorPage[FileObject](data=[FileObject(id='file-DGrVGGkMkwjB8BDWKXYVp9', bytes=22073717, created_at=1732703838, filename='축구규칙정리.pdf', object='file', purpose='assistants', status='processed', status_details=None)], object='list', has_more=False, first_id='file-DGrVGGkMkwjB8BDWKXYVp9', last_id='file-DGrVGGkMkwjB8BDWKXYVp9')\n"
     ]
    }
   ],
   "source": [
    "file_list = client.files.list()\n",
    "print(file_list)"
   ]
  },
  {
   "cell_type": "code",
   "execution_count": 11,
   "metadata": {},
   "outputs": [
    {
     "name": "stdout",
     "output_type": "stream",
     "text": [
      "file-DGrVGGkMkwjB8BDWKXYVp9\n"
     ]
    }
   ],
   "source": [
    "file_id = file_list.data[0].id\n",
    "print(file_id)"
   ]
  },
  {
   "cell_type": "code",
   "execution_count": 9,
   "metadata": {},
   "outputs": [
    {
     "name": "stdout",
     "output_type": "stream",
     "text": [
      "FileDeleted(id='file-DGrVGGkMkwjB8BDWKXYVp9', deleted=True, object='file')\n"
     ]
    }
   ],
   "source": [
    "response = client.files.delete(file_id)\n",
    "print(response)"
   ]
  },
  {
   "cell_type": "code",
   "execution_count": 16,
   "metadata": {},
   "outputs": [
    {
     "name": "stdout",
     "output_type": "stream",
     "text": [
      "                                 Open        High         Low       Close  \\\n",
      "Date                                                                        \n",
      "2024-11-20 00:00:00-05:00  228.059998  229.929993  225.889999  229.000000   \n",
      "2024-11-21 00:00:00-05:00  228.880005  230.160004  225.710007  228.520004   \n",
      "2024-11-22 00:00:00-05:00  228.059998  230.720001  228.059998  229.869995   \n",
      "2024-11-25 00:00:00-05:00  231.460007  233.250000  229.740005  232.869995   \n",
      "2024-11-26 00:00:00-05:00  233.330002  235.570007  233.330002  235.059998   \n",
      "\n",
      "                             Volume  Dividends  Stock Splits  \n",
      "Date                                                          \n",
      "2024-11-20 00:00:00-05:00  35169600        0.0           0.0  \n",
      "2024-11-21 00:00:00-05:00  42108300        0.0           0.0  \n",
      "2024-11-22 00:00:00-05:00  38168300        0.0           0.0  \n",
      "2024-11-25 00:00:00-05:00  90152800        0.0           0.0  \n",
      "2024-11-26 00:00:00-05:00  45897300        0.0           0.0  \n",
      "Technology\n",
      "0.0043\n"
     ]
    }
   ],
   "source": [
    "import yfinance as yf\n",
    "\n",
    "# 티커 객체 생성 (예: 애플 주식)\n",
    "ticker = yf.Ticker(\"AAPL\")\n",
    "\n",
    "# 시세 데이터 가져오기\n",
    "hist = ticker.history(period=\"5d\")  # 최근 1년 데이터\n",
    "print(hist.head())\n",
    "\n",
    "# 재무 정보 가져오기\n",
    "info = ticker.info\n",
    "print(info['sector'])  # 섹터 정보 출력\n",
    "print(info['dividendYield'])  # 배당 수익률 출력"
   ]
  },
  {
   "cell_type": "code",
   "execution_count": null,
   "metadata": {},
   "outputs": [],
   "source": []
  }
 ],
 "metadata": {
  "kernelspec": {
   "display_name": ".venv",
   "language": "python",
   "name": "python3"
  },
  "language_info": {
   "codemirror_mode": {
    "name": "ipython",
    "version": 3
   },
   "file_extension": ".py",
   "mimetype": "text/x-python",
   "name": "python",
   "nbconvert_exporter": "python",
   "pygments_lexer": "ipython3",
   "version": "3.12.0"
  }
 },
 "nbformat": 4,
 "nbformat_minor": 2
}
